{
  "nbformat": 4,
  "nbformat_minor": 0,
  "metadata": {
    "colab": {
      "provenance": [],
      "gpuType": "T4",
      "authorship_tag": "ABX9TyNVGJREnm8jooGm177lszNR",
      "include_colab_link": true
    },
    "kernelspec": {
      "name": "python3",
      "display_name": "Python 3"
    },
    "language_info": {
      "name": "python"
    },
    "accelerator": "GPU"
  },
  "cells": [
    {
      "cell_type": "markdown",
      "metadata": {
        "id": "view-in-github",
        "colab_type": "text"
      },
      "source": [
        "<a href=\"https://colab.research.google.com/github/le-patrice/ANN/blob/main/tensorflow_basics_1.ipynb\" target=\"_parent\"><img src=\"https://colab.research.google.com/assets/colab-badge.svg\" alt=\"Open In Colab\"/></a>"
      ]
    },
    {
      "cell_type": "markdown",
      "source": [
        "### Step 0: Setup & Imports"
      ],
      "metadata": {
        "id": "7nPqrjh2pIbl"
      }
    },
    {
      "cell_type": "code",
      "execution_count": 2,
      "metadata": {
        "id": "e2FtMUGbo7f5"
      },
      "outputs": [],
      "source": [
        "# Step 0: Setup & Imports\n",
        "import tensorflow as tf\n",
        "import numpy as np\n",
        "import matplotlib.pyplot as plt"
      ]
    },
    {
      "cell_type": "markdown",
      "source": [
        "### Step 1: Data Loading & Preporcessing\n",
        "- Load dataset\n",
        "- Normalize / reshape data\n",
        "- Split into train/validation/test\n",
        "\n",
        "---\n",
        "\n",
        "\n",
        "\n",
        "---\n",
        "\n"
      ],
      "metadata": {
        "id": "h2M1q2EnpV4K"
      }
    },
    {
      "cell_type": "code",
      "source": [
        "# Step 1: Loading & preprocessing data\n",
        "(x_train, y_train),(x_test, y_test) = tf.keras.datasets.mnist.load_data()\n",
        "\n",
        "# Normalize to [0,1]\n",
        "x_train, x_test = x_train.astype(\"float32\")/255.0, x_test.astype(\"float32\")/255.0\n",
        "\n",
        "# Add channel dimension (needed for ConvNets)\n",
        "x_train, x_test = np.expand_dims(x_train, -1), np.expand_dims(x_test, -1)\n",
        "\n",
        "\n",
        "print(\"Training shape:\", x_train.shape, \"Test Shape:\", x_test.shape)\n"
      ],
      "metadata": {
        "colab": {
          "base_uri": "https://localhost:8080/"
        },
        "id": "QY_CRb9upVGe",
        "outputId": "14de8e5c-2710-4132-b0c7-06bceb0b828c"
      },
      "execution_count": 3,
      "outputs": [
        {
          "output_type": "stream",
          "name": "stdout",
          "text": [
            "Downloading data from https://storage.googleapis.com/tensorflow/tf-keras-datasets/mnist.npz\n",
            "\u001b[1m11490434/11490434\u001b[0m \u001b[32m━━━━━━━━━━━━━━━━━━━━\u001b[0m\u001b[37m\u001b[0m \u001b[1m0s\u001b[0m 0us/step\n",
            "Training shape: (60000, 28, 28, 1) Test Shape: (10000, 28, 28, 1)\n"
          ]
        }
      ]
    },
    {
      "cell_type": "markdown",
      "source": [
        "### Step 2: Model Architecture\n",
        "- start with Sequential API\n",
        "- Move later to Functional API for flexibility\n",
        "- Follow best practices(Dropout,  BatchNorm)"
      ],
      "metadata": {
        "id": "MJhHOpnZqaFm"
      }
    },
    {
      "cell_type": "code",
      "source": [
        "# Step 2: Define Model Architecture\n",
        "model = tf.keras.Sequential([\n",
        "    tf.keras.layers.Conv2D(32, (3,3), activation = 'relu', input_shape=(28,28,1)),\n",
        "    tf.keras.layers.MaxPooling2D((2,2)),\n",
        "    tf.keras.layers.Flatten(),\n",
        "    tf.keras.layers.Dense(128, activation = 'relu'),\n",
        "    tf.keras.layers.Dropout(.3),\n",
        "    tf.keras.layers.Dense(10, activation='softmax')\n",
        "])"
      ],
      "metadata": {
        "colab": {
          "base_uri": "https://localhost:8080/"
        },
        "id": "pQBsYzxIpm8f",
        "outputId": "11bf2bfc-1871-4cb9-ec4e-c00de299be3b"
      },
      "execution_count": 4,
      "outputs": [
        {
          "output_type": "stream",
          "name": "stderr",
          "text": [
            "/usr/local/lib/python3.12/dist-packages/keras/src/layers/convolutional/base_conv.py:113: UserWarning: Do not pass an `input_shape`/`input_dim` argument to a layer. When using Sequential models, prefer using an `Input(shape)` object as the first layer in the model instead.\n",
            "  super().__init__(activity_regularizer=activity_regularizer, **kwargs)\n"
          ]
        }
      ]
    },
    {
      "cell_type": "markdown",
      "source": [
        "### Step 3: Compile the Model\n",
        "- Choose optimizer, loss, metrics"
      ],
      "metadata": {
        "id": "G5xXa5G3ufhJ"
      }
    },
    {
      "cell_type": "code",
      "source": [
        "# Step 3: Compile Model\n",
        "model.compile(\n",
        "    optimizer=tf.keras.optimizers.Adam(),\n",
        "    loss='sparse_categorical_crossentropy',\n",
        "    metrics=[\"accuracy\"]\n",
        ")"
      ],
      "metadata": {
        "id": "DGjyM8X5uZ6v"
      },
      "execution_count": 6,
      "outputs": []
    },
    {
      "cell_type": "markdown",
      "source": [
        "### Step 4: Train the Model\n",
        "- Use valiation split or test set\n",
        "- Add callbacks (Early Stopping, Checkpoints)"
      ],
      "metadata": {
        "id": "1UVAtKf4uzzu"
      }
    },
    {
      "cell_type": "code",
      "source": [
        "# Step 4: Train model\n",
        "history = model.fit(\n",
        "    x_train, y_train,\n",
        "    epochs=5,\n",
        "    batch_size=64,\n",
        "    validation_split=.1,\n",
        "    verbose=2\n",
        "    )"
      ],
      "metadata": {
        "colab": {
          "base_uri": "https://localhost:8080/"
        },
        "id": "h2hqoBC8uvoI",
        "outputId": "423c7d9e-9904-405a-f7a2-012c88b8d1c9"
      },
      "execution_count": 7,
      "outputs": [
        {
          "output_type": "stream",
          "name": "stdout",
          "text": [
            "Epoch 1/5\n",
            "844/844 - 9s - 11ms/step - accuracy: 0.9316 - loss: 0.2303 - val_accuracy: 0.9823 - val_loss: 0.0642\n",
            "Epoch 2/5\n",
            "844/844 - 2s - 3ms/step - accuracy: 0.9744 - loss: 0.0855 - val_accuracy: 0.9872 - val_loss: 0.0495\n",
            "Epoch 3/5\n",
            "844/844 - 2s - 3ms/step - accuracy: 0.9816 - loss: 0.0596 - val_accuracy: 0.9858 - val_loss: 0.0471\n",
            "Epoch 4/5\n",
            "844/844 - 3s - 3ms/step - accuracy: 0.9853 - loss: 0.0464 - val_accuracy: 0.9868 - val_loss: 0.0468\n",
            "Epoch 5/5\n",
            "844/844 - 3s - 3ms/step - accuracy: 0.9880 - loss: 0.0369 - val_accuracy: 0.9888 - val_loss: 0.0406\n"
          ]
        }
      ]
    },
    {
      "cell_type": "markdown",
      "source": [
        "### Step 5: Evaluate & Visualize\n",
        "- Test Performance\n",
        "- Plot accuracy/loss curves"
      ],
      "metadata": {
        "id": "ePUWZxrfvLpt"
      }
    },
    {
      "cell_type": "code",
      "source": [
        "# Step 5: Evaluate Model\n",
        "test_loss, test_acc = model.evaluate(x_test, y_test, verbose=0)\n",
        "print(\"Test accuracy:\", test_acc)\n",
        "\n",
        "# Plot training history\n",
        "plt.plot(history.history[\"accuracy\"], label=\"train_acc\")\n",
        "plt.plot(history.history[\"val_accuracy\"], label=\"val_acc\")\n",
        "plt.xlabel(\"Epochs\")\n",
        "plt.ylabel(\"Accuracy\")\n",
        "plt.legend()\n",
        "plt.show()"
      ],
      "metadata": {
        "colab": {
          "base_uri": "https://localhost:8080/",
          "height": 466
        },
        "id": "RQTwRR7NvKqC",
        "outputId": "61550441-acba-49fb-fdf7-e42b72c00b5b"
      },
      "execution_count": 9,
      "outputs": [
        {
          "output_type": "stream",
          "name": "stdout",
          "text": [
            "Test accuracy: 0.9873999953269958\n"
          ]
        },
        {
          "output_type": "display_data",
          "data": {
            "text/plain": [
              "<Figure size 640x480 with 1 Axes>"
            ],
            "image/png": "[encoded data removed]"
          },
          "metadata": {}
        }
      ]
    },
    {
      "cell_type": "markdown",
      "source": [
        "### Step 6: Save Model\n",
        "- Save model for reuse or deployment"
      ],
      "metadata": {
        "id": "SUYI5g3yv2QW"
      }
    },
    {
      "cell_type": "code",
      "source": [
        "model.save(\"mnsit_cnn_model.h5\")"
      ],
      "metadata": {
        "colab": {
          "base_uri": "https://localhost:8080/"
        },
        "id": "7O0VceG4vc8O",
        "outputId": "a96ed1f9-cb9b-49cf-f93b-31f66fc2e40f"
      },
      "execution_count": 10,
      "outputs": [
        {
          "output_type": "stream",
          "name": "stderr",
          "text": [
            "WARNING:absl:You are saving your model as an HDF5 file via `model.save()` or `keras.saving.save_model(model)`. This file format is considered legacy. We recommend using instead the native Keras format, e.g. `model.save('my_model.keras')` or `keras.saving.save_model(model, 'my_model.keras')`. \n"
          ]
        }
      ]
    },
    {
      "cell_type": "code",
      "source": [],
      "metadata": {
        "id": "yuHVHAX-v-8B"
      },
      "execution_count": null,
      "outputs": []
    }
  ]
}