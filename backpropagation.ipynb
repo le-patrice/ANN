{
 "cells": [
  {
   "cell_type": "code",
   "execution_count": 1,
   "id": "e9678dea",
   "metadata": {
    "_cell_guid": "b1076dfc-b9ad-4769-8c92-a6c4dae69d19",
    "_uuid": "8f2839f25d086af736a60e9eeb907d3b93b6e0e5",
    "execution": {
     "iopub.execute_input": "2025-09-28T19:23:19.343897Z",
     "iopub.status.busy": "2025-09-28T19:23:19.343273Z",
     "iopub.status.idle": "2025-09-28T19:23:20.721415Z",
     "shell.execute_reply": "2025-09-28T19:23:20.720645Z"
    },
    "papermill": {
     "duration": 1.383669,
     "end_time": "2025-09-28T19:23:20.722926",
     "exception": false,
     "start_time": "2025-09-28T19:23:19.339257",
     "status": "completed"
    },
    "tags": []
   },
   "outputs": [],
   "source": [
    "# This Python 3 environment comes with many helpful analytics libraries installed\n",
    "# It is defined by the kaggle/python Docker image: https://github.com/kaggle/docker-python\n",
    "# For example, here's several helpful packages to load\n",
    "\n",
    "import numpy as np # linear algebra\n",
    "import pandas as pd # data processing, CSV file I/O (e.g. pd.read_csv)\n",
    "\n",
    "# Input data files are available in the read-only \"../input/\" directory\n",
    "# For example, running this (by clicking run or pressing Shift+Enter) will list all files under the input directory\n",
    "\n",
    "import os\n",
    "for dirname, _, filenames in os.walk('/kaggle/input'):\n",
    "    for filename in filenames:\n",
    "        print(os.path.join(dirname, filename))\n",
    "\n",
    "# You can write up to 20GB to the current directory (/kaggle/working/) that gets preserved as output when you create a version using \"Save & Run All\" \n",
    "# You can also write temporary files to /kaggle/temp/, but they won't be saved outside of the current session"
   ]
  },
  {
   "cell_type": "markdown",
   "id": "5e63c889",
   "metadata": {
    "papermill": {
     "duration": 0.002393,
     "end_time": "2025-09-28T19:23:20.728387",
     "exception": false,
     "start_time": "2025-09-28T19:23:20.725994",
     "status": "completed"
    },
    "tags": []
   },
   "source": [
    "### Step 0: Setup & Imports"
   ]
  },
  {
   "cell_type": "code",
   "execution_count": 2,
   "id": "96da2953",
   "metadata": {
    "execution": {
     "iopub.execute_input": "2025-09-28T19:23:20.734594Z",
     "iopub.status.busy": "2025-09-28T19:23:20.734040Z",
     "iopub.status.idle": "2025-09-28T19:23:34.726862Z",
     "shell.execute_reply": "2025-09-28T19:23:34.726032Z"
    },
    "papermill": {
     "duration": 13.997219,
     "end_time": "2025-09-28T19:23:34.728168",
     "exception": false,
     "start_time": "2025-09-28T19:23:20.730949",
     "status": "completed"
    },
    "tags": []
   },
   "outputs": [
    {
     "name": "stderr",
     "output_type": "stream",
     "text": [
      "2025-09-28 19:23:22.363065: E external/local_xla/xla/stream_executor/cuda/cuda_fft.cc:477] Unable to register cuFFT factory: Attempting to register factory for plugin cuFFT when one has already been registered\n",
      "WARNING: All log messages before absl::InitializeLog() is called are written to STDERR\n",
      "E0000 00:00:1759087402.561154      19 cuda_dnn.cc:8310] Unable to register cuDNN factory: Attempting to register factory for plugin cuDNN when one has already been registered\n",
      "E0000 00:00:1759087402.614860      19 cuda_blas.cc:1418] Unable to register cuBLAS factory: Attempting to register factory for plugin cuBLAS when one has already been registered\n"
     ]
    },
    {
     "name": "stdout",
     "output_type": "stream",
     "text": [
      "TensorFlow: 2.18.0\n"
     ]
    }
   ],
   "source": [
    "# Step 0: Setup & Imports\n",
    "import tensorflow as tf\n",
    "import numpy as np\n",
    "import matplotlib.pyplot as plt\n",
    "import seaborn as sns\n",
    "\n",
    "import warnings\n",
    "warnings.filterwarnings('ignore')\n",
    "print(f\"TensorFlow: {tf.__version__}\")"
   ]
  },
  {
   "cell_type": "markdown",
   "id": "84598666",
   "metadata": {
    "papermill": {
     "duration": 0.002347,
     "end_time": "2025-09-28T19:23:34.733359",
     "exception": false,
     "start_time": "2025-09-28T19:23:34.731012",
     "status": "completed"
    },
    "tags": []
   },
   "source": [
    "### Step 1: Load & Preprocess Data "
   ]
  },
  {
   "cell_type": "code",
   "execution_count": 3,
   "id": "10775a55",
   "metadata": {
    "execution": {
     "iopub.execute_input": "2025-09-28T19:23:34.739651Z",
     "iopub.status.busy": "2025-09-28T19:23:34.739099Z",
     "iopub.status.idle": "2025-09-28T19:23:35.330671Z",
     "shell.execute_reply": "2025-09-28T19:23:35.329892Z"
    },
    "papermill": {
     "duration": 0.595833,
     "end_time": "2025-09-28T19:23:35.331801",
     "exception": false,
     "start_time": "2025-09-28T19:23:34.735968",
     "status": "completed"
    },
    "tags": []
   },
   "outputs": [
    {
     "name": "stdout",
     "output_type": "stream",
     "text": [
      "Downloading data from https://storage.googleapis.com/tensorflow/tf-keras-datasets/mnist.npz\n",
      "\u001b[1m11490434/11490434\u001b[0m \u001b[32m━━━━━━━━━━━━━━━━━━━━\u001b[0m\u001b[37m\u001b[0m \u001b[1m0s\u001b[0m 0us/step\n",
      "Train shape: (60000, 784), Test shape: (10000, 784)\n"
     ]
    }
   ],
   "source": [
    "# Step 1: Load & prepare data\n",
    "(x_train, y_train),(x_test, y_test) = tf.keras.datasets.mnist.load_data()\n",
    "\n",
    "# Normalize -> [0,1]\n",
    "x_train, x_test = x_train/255.0, x_test/255.0\n",
    "\n",
    "#Flatten(ANN input is 1D vector, not images\n",
    "x_train = x_train.reshape(-1, 784)\n",
    "x_test = x_test.reshape(-1,784)\n",
    "\n",
    "print(f\"Train shape: {x_train.shape}, Test shape: {x_test.shape}\")"
   ]
  },
  {
   "cell_type": "markdown",
   "id": "ed6517ba",
   "metadata": {
    "papermill": {
     "duration": 0.002669,
     "end_time": "2025-09-28T19:23:35.337583",
     "exception": false,
     "start_time": "2025-09-28T19:23:35.334914",
     "status": "completed"
    },
    "tags": []
   },
   "source": [
    "### Step 2: Define Model Architecture(ANN)\n"
   ]
  },
  {
   "cell_type": "code",
   "execution_count": 4,
   "id": "f0242a49",
   "metadata": {
    "execution": {
     "iopub.execute_input": "2025-09-28T19:23:35.344066Z",
     "iopub.status.busy": "2025-09-28T19:23:35.343827Z",
     "iopub.status.idle": "2025-09-28T19:23:37.455449Z",
     "shell.execute_reply": "2025-09-28T19:23:37.454855Z"
    },
    "papermill": {
     "duration": 2.116455,
     "end_time": "2025-09-28T19:23:37.456884",
     "exception": false,
     "start_time": "2025-09-28T19:23:35.340429",
     "status": "completed"
    },
    "tags": []
   },
   "outputs": [
    {
     "name": "stderr",
     "output_type": "stream",
     "text": [
      "I0000 00:00:1759087416.171614      19 gpu_device.cc:2022] Created device /job:localhost/replica:0/task:0/device:GPU:0 with 15513 MB memory:  -> device: 0, name: Tesla P100-PCIE-16GB, pci bus id: 0000:00:04.0, compute capability: 6.0\n"
     ]
    }
   ],
   "source": [
    "# Step 2: Define Model (with Relu )\n",
    "model_relu = tf.keras.Sequential([\n",
    "    tf.keras.layers.Dense(128, activation='relu', input_shape=(784,)),\n",
    "    tf.keras.layers.Dense(64, activation='relu'),\n",
    "    tf.keras.layers.Dense(10, activation='softmax')\n",
    "])"
   ]
  },
  {
   "cell_type": "markdown",
   "id": "23399323",
   "metadata": {
    "papermill": {
     "duration": 0.002672,
     "end_time": "2025-09-28T19:23:37.462845",
     "exception": false,
     "start_time": "2025-09-28T19:23:37.460173",
     "status": "completed"
    },
    "tags": []
   },
   "source": [
    "### Step 3: Compile Model\n",
    "* Optimizer -> Adam (efficient backdrop with adaptive LR)\n",
    "* Loss -> sparse categorical corossentropy (for integer labels)\n",
    "* Metrics -> accuracy"
   ]
  },
  {
   "cell_type": "code",
   "execution_count": 5,
   "id": "3a9c4d5e",
   "metadata": {
    "execution": {
     "iopub.execute_input": "2025-09-28T19:23:37.469339Z",
     "iopub.status.busy": "2025-09-28T19:23:37.469108Z",
     "iopub.status.idle": "2025-09-28T19:23:37.481089Z",
     "shell.execute_reply": "2025-09-28T19:23:37.480569Z"
    },
    "papermill": {
     "duration": 0.016449,
     "end_time": "2025-09-28T19:23:37.482068",
     "exception": false,
     "start_time": "2025-09-28T19:23:37.465619",
     "status": "completed"
    },
    "tags": []
   },
   "outputs": [],
   "source": [
    "# Step 3: Compile Model\n",
    "model_relu.compile(\n",
    "    optimizer=tf.keras.optimizers.Adam(learning_rate=.001),\n",
    "    loss='sparse_categorical_crossentropy',\n",
    "    metrics=['accuracy']\n",
    ")"
   ]
  },
  {
   "cell_type": "markdown",
   "id": "45ea9916",
   "metadata": {
    "papermill": {
     "duration": 0.002586,
     "end_time": "2025-09-28T19:23:37.487446",
     "exception": false,
     "start_time": "2025-09-28T19:23:37.484860",
     "status": "completed"
    },
    "tags": []
   },
   "source": [
    "### Step 4: Train Model (Backpropagation in Action)\n",
    "* This is automatically implemented by Tensorflow during .fit()\n",
    "* Showing training vs validation curves"
   ]
  },
  {
   "cell_type": "code",
   "execution_count": 6,
   "id": "936e771a",
   "metadata": {
    "execution": {
     "iopub.execute_input": "2025-09-28T19:23:37.494931Z",
     "iopub.status.busy": "2025-09-28T19:23:37.494239Z",
     "iopub.status.idle": "2025-09-28T19:24:00.644029Z",
     "shell.execute_reply": "2025-09-28T19:24:00.643391Z"
    },
    "papermill": {
     "duration": 23.154331,
     "end_time": "2025-09-28T19:24:00.645292",
     "exception": false,
     "start_time": "2025-09-28T19:23:37.490961",
     "status": "completed"
    },
    "tags": []
   },
   "outputs": [
    {
     "name": "stdout",
     "output_type": "stream",
     "text": [
      "Epoch 1/10\n"
     ]
    },
    {
     "name": "stderr",
     "output_type": "stream",
     "text": [
      "WARNING: All log messages before absl::InitializeLog() is called are written to STDERR\n",
      "I0000 00:00:1759087419.241451      59 service.cc:148] XLA service 0x7df810007da0 initialized for platform CUDA (this does not guarantee that XLA will be used). Devices:\n",
      "I0000 00:00:1759087419.242255      59 service.cc:156]   StreamExecutor device (0): Tesla P100-PCIE-16GB, Compute Capability 6.0\n",
      "I0000 00:00:1759087419.431899      59 cuda_dnn.cc:529] Loaded cuDNN version 90300\n",
      "I0000 00:00:1759087420.077497      59 device_compiler.h:188] Compiled cluster using XLA!  This line is logged at most once for the lifetime of the process.\n"
     ]
    },
    {
     "name": "stdout",
     "output_type": "stream",
     "text": [
      "844/844 - 5s - 6ms/step - accuracy: 0.9154 - loss: 0.2901 - val_accuracy: 0.9633 - val_loss: 0.1240\n",
      "Epoch 2/10\n",
      "844/844 - 2s - 2ms/step - accuracy: 0.9636 - loss: 0.1213 - val_accuracy: 0.9715 - val_loss: 0.0954\n",
      "Epoch 3/10\n",
      "844/844 - 2s - 2ms/step - accuracy: 0.9752 - loss: 0.0814 - val_accuracy: 0.9717 - val_loss: 0.0996\n",
      "Epoch 4/10\n",
      "844/844 - 2s - 2ms/step - accuracy: 0.9815 - loss: 0.0617 - val_accuracy: 0.9767 - val_loss: 0.0842\n",
      "Epoch 5/10\n",
      "844/844 - 2s - 2ms/step - accuracy: 0.9852 - loss: 0.0475 - val_accuracy: 0.9727 - val_loss: 0.0943\n",
      "Epoch 6/10\n",
      "844/844 - 2s - 2ms/step - accuracy: 0.9878 - loss: 0.0378 - val_accuracy: 0.9753 - val_loss: 0.0937\n",
      "Epoch 7/10\n",
      "844/844 - 2s - 2ms/step - accuracy: 0.9897 - loss: 0.0321 - val_accuracy: 0.9763 - val_loss: 0.0855\n",
      "Epoch 8/10\n",
      "844/844 - 2s - 2ms/step - accuracy: 0.9925 - loss: 0.0244 - val_accuracy: 0.9768 - val_loss: 0.0880\n",
      "Epoch 9/10\n",
      "844/844 - 2s - 2ms/step - accuracy: 0.9928 - loss: 0.0218 - val_accuracy: 0.9768 - val_loss: 0.0919\n",
      "Epoch 10/10\n",
      "844/844 - 2s - 2ms/step - accuracy: 0.9934 - loss: 0.0207 - val_accuracy: 0.9788 - val_loss: 0.0900\n"
     ]
    }
   ],
   "source": [
    "# Step 4: Train Model\n",
    "history_relu = model_relu.fit(\n",
    "    x_train, y_train,\n",
    "    epochs=10,\n",
    "    batch_size=64,\n",
    "    validation_split=.1,\n",
    "    verbose=2\n",
    ")"
   ]
  },
  {
   "cell_type": "markdown",
   "id": "d43639bd",
   "metadata": {
    "papermill": {
     "duration": 0.003502,
     "end_time": "2025-09-28T19:24:00.652958",
     "exception": false,
     "start_time": "2025-09-28T19:24:00.649456",
     "status": "completed"
    },
    "tags": []
   },
   "source": [
    "### Step 5: Evaluate Model\n",
    "* Test on unseen data"
   ]
  },
  {
   "cell_type": "code",
   "execution_count": 7,
   "id": "79de1400",
   "metadata": {
    "execution": {
     "iopub.execute_input": "2025-09-28T19:24:00.660957Z",
     "iopub.status.busy": "2025-09-28T19:24:00.660555Z",
     "iopub.status.idle": "2025-09-28T19:24:01.904918Z",
     "shell.execute_reply": "2025-09-28T19:24:01.904113Z"
    },
    "papermill": {
     "duration": 1.249764,
     "end_time": "2025-09-28T19:24:01.906182",
     "exception": false,
     "start_time": "2025-09-28T19:24:00.656418",
     "status": "completed"
    },
    "tags": []
   },
   "outputs": [
    {
     "name": "stdout",
     "output_type": "stream",
     "text": [
      "ReLU Test Accuracy:0.9779999852180481\n"
     ]
    }
   ],
   "source": [
    "loss, acc = model_relu.evaluate(x_test, y_test, verbose=0)\n",
    "print(f\"ReLU Test Accuracy:{acc}\")"
   ]
  },
  {
   "cell_type": "markdown",
   "id": "d125d529",
   "metadata": {
    "papermill": {
     "duration": 0.003508,
     "end_time": "2025-09-28T19:24:01.913736",
     "exception": false,
     "start_time": "2025-09-28T19:24:01.910228",
     "status": "completed"
    },
    "tags": []
   },
   "source": [
    "### Step 6: Compare Activation Functions\n",
    "1. Sigmoid\n",
    "2. tanh\n",
    "- With repeating concepts from 2-5"
   ]
  },
  {
   "cell_type": "code",
   "execution_count": 8,
   "id": "54d43cf8",
   "metadata": {
    "execution": {
     "iopub.execute_input": "2025-09-28T19:24:01.921829Z",
     "iopub.status.busy": "2025-09-28T19:24:01.921566Z",
     "iopub.status.idle": "2025-09-28T19:24:48.464051Z",
     "shell.execute_reply": "2025-09-28T19:24:48.463195Z"
    },
    "papermill": {
     "duration": 46.547987,
     "end_time": "2025-09-28T19:24:48.465298",
     "exception": false,
     "start_time": "2025-09-28T19:24:01.917311",
     "status": "completed"
    },
    "tags": []
   },
   "outputs": [
    {
     "name": "stdout",
     "output_type": "stream",
     "text": [
      "Epoch 1/10\n",
      "844/844 - 5s - 5ms/step - accuracy: 0.8520 - loss: 0.6298 - val_accuracy: 0.9393 - val_loss: 0.2217\n",
      "Epoch 2/10\n",
      "844/844 - 2s - 2ms/step - accuracy: 0.9345 - loss: 0.2276 - val_accuracy: 0.9597 - val_loss: 0.1565\n",
      "Epoch 3/10\n",
      "844/844 - 2s - 2ms/step - accuracy: 0.9504 - loss: 0.1659 - val_accuracy: 0.9677 - val_loss: 0.1248\n",
      "Epoch 4/10\n",
      "844/844 - 2s - 2ms/step - accuracy: 0.9619 - loss: 0.1296 - val_accuracy: 0.9698 - val_loss: 0.1089\n",
      "Epoch 5/10\n",
      "844/844 - 2s - 2ms/step - accuracy: 0.9698 - loss: 0.1045 - val_accuracy: 0.9732 - val_loss: 0.0974\n",
      "Epoch 6/10\n",
      "844/844 - 2s - 2ms/step - accuracy: 0.9750 - loss: 0.0858 - val_accuracy: 0.9755 - val_loss: 0.0905\n",
      "Epoch 7/10\n",
      "844/844 - 2s - 2ms/step - accuracy: 0.9794 - loss: 0.0712 - val_accuracy: 0.9733 - val_loss: 0.0875\n",
      "Epoch 8/10\n",
      "844/844 - 2s - 2ms/step - accuracy: 0.9829 - loss: 0.0599 - val_accuracy: 0.9763 - val_loss: 0.0816\n",
      "Epoch 9/10\n",
      "844/844 - 2s - 2ms/step - accuracy: 0.9858 - loss: 0.0498 - val_accuracy: 0.9767 - val_loss: 0.0778\n",
      "Epoch 10/10\n",
      "844/844 - 2s - 2ms/step - accuracy: 0.9885 - loss: 0.0415 - val_accuracy: 0.9790 - val_loss: 0.0742\n",
      "Sigmoid Test Accuracy:0.9753999710083008 Loss: 0.08065120875835419\n",
      "Epoch 1/10\n",
      "844/844 - 5s - 5ms/step - accuracy: 0.9126 - loss: 0.3065 - val_accuracy: 0.9583 - val_loss: 0.1458\n",
      "Epoch 2/10\n",
      "844/844 - 2s - 2ms/step - accuracy: 0.9574 - loss: 0.1463 - val_accuracy: 0.9710 - val_loss: 0.1042\n",
      "Epoch 3/10\n",
      "844/844 - 2s - 2ms/step - accuracy: 0.9704 - loss: 0.0997 - val_accuracy: 0.9722 - val_loss: 0.0909\n",
      "Epoch 4/10\n",
      "844/844 - 2s - 2ms/step - accuracy: 0.9781 - loss: 0.0727 - val_accuracy: 0.9762 - val_loss: 0.0831\n",
      "Epoch 5/10\n",
      "844/844 - 2s - 2ms/step - accuracy: 0.9832 - loss: 0.0555 - val_accuracy: 0.9777 - val_loss: 0.0750\n",
      "Epoch 6/10\n",
      "844/844 - 2s - 2ms/step - accuracy: 0.9866 - loss: 0.0437 - val_accuracy: 0.9775 - val_loss: 0.0761\n",
      "Epoch 7/10\n",
      "844/844 - 2s - 2ms/step - accuracy: 0.9908 - loss: 0.0326 - val_accuracy: 0.9788 - val_loss: 0.0743\n",
      "Epoch 8/10\n",
      "844/844 - 2s - 2ms/step - accuracy: 0.9924 - loss: 0.0266 - val_accuracy: 0.9793 - val_loss: 0.0728\n",
      "Epoch 9/10\n",
      "844/844 - 2s - 2ms/step - accuracy: 0.9943 - loss: 0.0198 - val_accuracy: 0.9780 - val_loss: 0.0810\n",
      "Epoch 10/10\n",
      "844/844 - 2s - 2ms/step - accuracy: 0.9948 - loss: 0.0170 - val_accuracy: 0.9780 - val_loss: 0.0854\n",
      "Tanh Test Accuracy:0.9753000140190125 Tanh: 0.08245456218719482\n"
     ]
    }
   ],
   "source": [
    "# Step 6 two more activation functions\n",
    "#-> Sigmoid==========================================================================\n",
    "# Step 2: Model definition for sigmoid\n",
    "model_sigmoid = tf.keras.Sequential([\n",
    "    tf.keras.layers.Dense(128, activation='sigmoid',input_shape=(784,)),\n",
    "    tf.keras.layers.Dense(64, activation='sigmoid'),\n",
    "    tf.keras.layers.Dense(10, activation='softmax')\n",
    "])\n",
    "\n",
    "# Step 3: Model compiling\n",
    "model_sigmoid.compile(optimizer=tf.keras.optimizers.Adam(), loss='sparse_categorical_crossentropy',metrics=['accuracy'])\n",
    "# Step 4: Train model\n",
    "history_sigmoid = model_sigmoid.fit(x_train, y_train, epochs=10, batch_size=64, validation_split=.1, verbose=2)\n",
    "\n",
    "# Step 5: Evaluate\n",
    "loss, acc = model_sigmoid.evaluate(x_test, y_test, verbose=0)\n",
    "print(f\"Sigmoid Test Accuracy:{acc} Loss: {loss}\")\n",
    "# ==================================================================================\n",
    "\n",
    "#-> tanh============================================================================\n",
    "model_tanh = tf.keras.Sequential([\n",
    "    tf.keras.layers.Dense(128, activation='tanh',input_shape=(784,)),\n",
    "    tf.keras.layers.Dense(64, activation='tanh'),\n",
    "    tf.keras.layers.Dense(10, activation='softmax')\n",
    "])\n",
    "\n",
    "# Step 3: Model Compile\n",
    "model_tanh.compile(optimizer=tf.keras.optimizers.Adam(), loss='sparse_categorical_crossentropy',metrics=['accuracy'])\n",
    "\n",
    "# Step 4: Train Model with(fit )\n",
    "history_tanh = model_tanh.fit(x_train, y_train,\n",
    "                        epochs=10,\n",
    "                        batch_size=64,\n",
    "                        validation_split=.1,\n",
    "                        verbose=2\n",
    "                        )\n",
    "# Step 5: Evalaute \n",
    "loss, acc = model_tanh.evaluate(x_test, y_test, verbose=0)\n",
    "print(f\"Tanh Test Accuracy:{acc} Tanh: {loss}\")"
   ]
  },
  {
   "cell_type": "markdown",
   "id": "244c825d",
   "metadata": {
    "papermill": {
     "duration": 0.005025,
     "end_time": "2025-09-28T19:24:48.475922",
     "exception": false,
     "start_time": "2025-09-28T19:24:48.470897",
     "status": "completed"
    },
    "tags": []
   },
   "source": [
    "### Step 7: visualization & Comparison"
   ]
  },
  {
   "cell_type": "code",
   "execution_count": 9,
   "id": "14c9ed59",
   "metadata": {
    "execution": {
     "iopub.execute_input": "2025-09-28T19:24:48.486978Z",
     "iopub.status.busy": "2025-09-28T19:24:48.486734Z",
     "iopub.status.idle": "2025-09-28T19:24:48.826469Z",
     "shell.execute_reply": "2025-09-28T19:24:48.825733Z"
    },
    "papermill": {
     "duration": 0.346662,
     "end_time": "2025-09-28T19:24:48.827792",
     "exception": false,
     "start_time": "2025-09-28T19:24:48.481130",
     "status": "completed"
    },
    "tags": []
   },
   "outputs": [
    {
     "data": {
      "image/png": "[encoded data removed]",
      "text/plain": [
       "<Figure size 1000x600 with 1 Axes>"
      ]
     },
     "metadata": {},
     "output_type": "display_data"
    }
   ],
   "source": [
    "# Step 7: Compare Training Histories\n",
    "plt.figure(figsize=(10,6))\n",
    "plt.plot(history_relu.history['val_accuracy'],label='ReLU')\n",
    "plt.plot(history_sigmoid.history['val_accuracy'],label='Sigmoid')\n",
    "plt.plot(history_tanh.history['val_accuracy'], label='Tanh')\n",
    "plt.title('Validation Accuracy Comparison')\n",
    "plt.xlabel('Epochs')\n",
    "plt.ylabel('Accuracy')\n",
    "plt.legend()\n",
    "plt.show()"
   ]
  },
  {
   "cell_type": "markdown",
   "id": "1f74128e",
   "metadata": {
    "papermill": {
     "duration": 0.005693,
     "end_time": "2025-09-28T19:24:48.839665",
     "exception": false,
     "start_time": "2025-09-28T19:24:48.833972",
     "status": "completed"
    },
    "tags": []
   },
   "source": [
    "### Step 8: Notes & Comments\n",
    "* ReLU -> train faster, avoids vanishing gradients\n",
    "* Sigmoid -> squashes values(good for probabilites)but suffers vanishing gradients\n",
    "* Tanh -> zero-centered, often better than sigmoid but still vanishes in deep nets.\n",
    "* softmax -> required at output for multi-class classification\n",
    "## Assignment Alignment\n",
    "* Backpropagation -> implemented implicitly via .fit() (Tensorflow does the backpropagation math).\n",
    "* Vary activation functions -> done in step 2-7\n",
    "* Test on dataset -> MNIST\n",
    "* Compare results -> graphs + interpretation"
   ]
  }
 ],
 "metadata": {
  "kaggle": {
   "accelerator": "none",
   "dataSources": [],
   "dockerImageVersionId": 31089,
   "isGpuEnabled": false,
   "isInternetEnabled": true,
   "language": "python",
   "sourceType": "notebook"
  },
  "kernelspec": {
   "display_name": "Python 3",
   "language": "python",
   "name": "python3"
  },
  "language_info": {
   "codemirror_mode": {
    "name": "ipython",
    "version": 3
   },
   "file_extension": ".py",
   "mimetype": "text/x-python",
   "name": "python",
   "nbconvert_exporter": "python",
   "pygments_lexer": "ipython3",
   "version": "3.11.13"
  },
  "papermill": {
   "default_parameters": {},
   "duration": 97.195409,
   "end_time": "2025-09-28T19:24:52.499476",
   "environment_variables": {},
   "exception": null,
   "input_path": "__notebook__.ipynb",
   "output_path": "__notebook__.ipynb",
   "parameters": {},
   "start_time": "2025-09-28T19:23:15.304067",
   "version": "2.6.0"
  }
 },
 "nbformat": 4,
 "nbformat_minor": 5
}
